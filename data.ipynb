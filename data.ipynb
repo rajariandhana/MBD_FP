{
 "cells": [
  {
   "cell_type": "code",
   "execution_count": 2,
   "metadata": {},
   "outputs": [
    {
     "name": "stdout",
     "output_type": "stream",
     "text": [
      "Requirement already satisfied: pandas in /Users/ralfazza/.pyenv/versions/3.11.0/lib/python3.11/site-packages (2.1.0)\n",
      "Requirement already satisfied: numpy>=1.23.2 in /Users/ralfazza/.pyenv/versions/3.11.0/lib/python3.11/site-packages (from pandas) (1.25.2)\n",
      "Requirement already satisfied: python-dateutil>=2.8.2 in /Users/ralfazza/.pyenv/versions/3.11.0/lib/python3.11/site-packages (from pandas) (2.8.2)\n",
      "Requirement already satisfied: pytz>=2020.1 in /Users/ralfazza/.pyenv/versions/3.11.0/lib/python3.11/site-packages (from pandas) (2023.3.post1)\n",
      "Requirement already satisfied: tzdata>=2022.1 in /Users/ralfazza/.pyenv/versions/3.11.0/lib/python3.11/site-packages (from pandas) (2023.3)\n",
      "Requirement already satisfied: six>=1.5 in /Users/ralfazza/.pyenv/versions/3.11.0/lib/python3.11/site-packages (from python-dateutil>=2.8.2->pandas) (1.16.0)\n",
      "\n",
      "\u001b[1m[\u001b[0m\u001b[34;49mnotice\u001b[0m\u001b[1;39;49m]\u001b[0m\u001b[39;49m A new release of pip is available: \u001b[0m\u001b[31;49m23.3.1\u001b[0m\u001b[39;49m -> \u001b[0m\u001b[32;49m24.1\u001b[0m\n",
      "\u001b[1m[\u001b[0m\u001b[34;49mnotice\u001b[0m\u001b[1;39;49m]\u001b[0m\u001b[39;49m To update, run: \u001b[0m\u001b[32;49mpip install --upgrade pip\u001b[0m\n"
     ]
    }
   ],
   "source": [
    "!pip install pandas\n",
    "import pandas as pd\n",
    "from datetime import datetime, timedelta\n",
    "import random\n",
    "import string"
   ]
  },
  {
   "cell_type": "code",
   "execution_count": null,
   "metadata": {},
   "outputs": [],
   "source": [
    "def GenerateSQL(fileName, tableName):\n",
    "    df = pd.read_csv(fileName)\n",
    "    cols = str(list(df.columns)).replace('[',\"\").replace(']',\"\").replace(\"'\",\"\")\n",
    "    ins = f\"INSERT INTO {tableName} ({cols}) VALUES\"\n",
    "    print(ins)\n",
    "    for index, row in df.iterrows():\n",
    "        value = \"(\"\n",
    "        r = str(list(row)).replace(\"[\",\"(\").replace(\"]\",\"),\")\n",
    "        print(r)\n",
    "GenerateSQL('student_session.csv','Student_Session')"
   ]
  },
  {
   "cell_type": "code",
   "execution_count": 22,
   "metadata": {},
   "outputs": [],
   "source": [
    "# Sample anime character names\n",
    "studentNames = [\n",
    "    \"Naruto Uzumaki\", \"Sasuke Uchiha\", \"Sakura Haruno\", \"Kakashi Hatake\", \"Hinata Hyuga\",\n",
    "    \"Itachi Uchiha\", \"Shikamaru Nara\", \"Gaara\", \"Rock Lee\", \"Neji Hyuga\",\n",
    "    \"Luffy\", \"Zoro\", \"Nami\", \"Sanji\", \"Usopp\", \"Chopper\", \"Robin\", \"Franky\", \"Brook\", \"Jinbe\",\n",
    "    \"Goku\", \"Vegeta\", \"Gohan\", \"Piccolo\", \"Trunks\", \"Frieza\", \"Cell\", \"Majin Buu\", \"Bulma\", \"Krillin\",\n",
    "    \"Ichigo Kurosaki\", \"Rukia Kuchiki\", \"Orihime Inoue\", \"Uryu Ishida\", \"Renji Abarai\", \"Byakuya Kuchiki\", \"Sosuke Aizen\", \"Toshiro Hitsugaya\", \"Kenpachi Zaraki\", \"Yoruichi Shihouin\",\n",
    "    \"Eren Yeager\", \"Mikasa Ackerman\", \"Armin Arlert\", \"Levi Ackerman\", \"Erwin Smith\", \"Hange Zoe\", \"Jean Kirstein\", \"Connie Springer\", \"Sasha Blouse\", \"Historia Reiss\",\n",
    "    \"Light Yagami\", \"L\", \"Misa Amane\", \"Near\", \"Mello\", \"Ryuk\", \"Rem\", \"Soichiro Yagami\", \"Touta Matsuda\", \"Shuichi Aizawa\",\n",
    "    \"Edward Elric\", \"Alphonse Elric\", \"Winry Rockbell\", \"Roy Mustang\", \"Riza Hawkeye\", \"Scar\", \"Lust\", \"Envy\", \"Gluttony\", \"Pride\",\n",
    "    \"Tanjiro Kamado\", \"Nezuko Kamado\", \"Zenitsu Agatsuma\", \"Inosuke Hashibira\", \"Kyojuro Rengoku\", \"Giyu Tomioka\", \"Shinobu Kocho\", \"Tengen Uzui\", \"Mitsuri Kanroji\", \"Muichiro Tokito\",\n",
    "    \"Izuku Midoriya\", \"Katsuki Bakugo\", \"Ochaco Uraraka\", \"Shoto Todoroki\", \"All Might\", \"Endeavor\", \"Tomura Shigaraki\", \"Himiko Toga\", \"Dabi\", \"Twice\"\n",
    "]\n",
    "assistantNames = [\n",
    "    \"Lelouch Lamperouge\", \"Suzaku Kururugi\", \"C.C.\", \"Kallen Stadtfeld\", \"Euphemia li Britannia\",\n",
    "    \"Yusuke Urameshi\", \"Kurama\", \"Hiei\", \"Kuwabara\", \"Botan\",\n",
    "    \"Gon Freecss\", \"Killua Zoldyck\", \"Kurapika\", \"Hisoka\", \"Leorio Paradinight\",\n",
    "    \"Soma Yukihira\", \"Erina Nakiri\", \"Megumi Tadokoro\", \"Takumi Aldini\", \"Ryo Kurokiba\",\n",
    "    \"Shoyo Hinata\", \"Kageyama Tobio\", \"Kenma Kozume\", \"Tetsuro Kuroo\", \"Lev Haiba\",\n",
    "    \"Yukihira Soma\", \"Tadokoro Megumi\", \"Erina Nakiri\", \"Takumi Aldini\", \"Ryo Kurokiba\",\n",
    "    \"Rimuru Tempest\", \"Shuna\", \"Shion\", \"Milim Nava\", \"Benimaru\",\n",
    "    \"Eren Jaeger\", \"Mikasa Ackerman\", \"Armin Arlert\", \"Levi Ackerman\", \"Historia Reiss\"\n",
    "]\n",
    "\n",
    "# Function to generate random email\n",
    "def generate_email(name):\n",
    "    email = name.lower().replace(' ', '.') + \"@example.com\"\n",
    "    return email\n",
    "\n",
    "# Function to generate random password\n",
    "def generate_password(length=8):\n",
    "    characters = string.ascii_letters + string.digits\n",
    "    password = ''.join(random.choice(characters) for i in range(length))\n",
    "    return password"
   ]
  },
  {
   "cell_type": "code",
   "execution_count": 24,
   "metadata": {},
   "outputs": [],
   "source": [
    "data = []\n",
    "i=1\n",
    "for name in studentNames:\n",
    "    nrp = f\"5025221{i:03d}\"\n",
    "    i+=1\n",
    "    data.append([nrp,name,generate_email(name),generate_password()])\n",
    "cols = ['NRP','name','email','password']\n",
    "df_student = pd.DataFrame.from_records(data, columns=cols)\n",
    "df_student.to_csv('student.csv',index=False)\n"
   ]
  },
  {
   "cell_type": "code",
   "execution_count": 25,
   "metadata": {},
   "outputs": [],
   "source": [
    "data = []\n",
    "i=1\n",
    "for name in assistantNames:\n",
    "    nrp = f\"5025211{i:03d}\"\n",
    "    i+=1\n",
    "    data.append([nrp,name,generate_email(name),generate_password()])\n",
    "cols = ['NRP','name','email','password']\n",
    "df_assistant = pd.DataFrame.from_records(data, columns=cols)\n",
    "df_assistant.to_csv('assistant.csv',index=False)\n"
   ]
  },
  {
   "cell_type": "code",
   "execution_count": 30,
   "metadata": {},
   "outputs": [],
   "source": [
    "def generate_random_datetime():\n",
    "    year = random.randint(2023, 2024)  # Random year\n",
    "    month = random.randint(1, 12)  # Random month\n",
    "    day = random.randint(1, 28)  # Random day (to avoid month issues)\n",
    "    hour = random.randint(0, 23)  # Random hour\n",
    "    minute = random.randint(0, 59)  # Random minute\n",
    "    second = random.randint(0, 59)  # Random second\n",
    "    return datetime(year, month, day, hour, minute, second)\n",
    "df_student = pd.read_csv('student.csv')\n",
    "df_assistant = pd.read_csv('assistant.csv')\n",
    "n_session = 30\n",
    "data=[]\n",
    "for i in range(n_session):\n",
    "    assistant = df_assistant.sample(n=1)\n",
    "    assNRP = assistant.iloc[0]['NRP']\n",
    "    timeStart = generate_random_datetime()\n",
    "    sessionLength = random.randint(1, 2*60*60)\n",
    "    timeEnd = timeStart + timedelta(seconds=sessionLength)\n",
    "    timeStart = timeStart.strftime(\"%Y-%m-%d %H:%M:%S\")\n",
    "    timeEnd = timeEnd.strftime(\"%Y-%m-%d %H:%M:%S\")\n",
    "    data.append([timeStart,timeEnd,assNRP])\n",
    "df_session = pd.DataFrame.from_records(data, columns=['timeStart','timeEnd','Assistant_NRP'])\n",
    "df_session.to_csv('session.csv',index=False)"
   ]
  },
  {
   "cell_type": "code",
   "execution_count": 32,
   "metadata": {},
   "outputs": [],
   "source": [
    "df_student = pd.read_csv('student.csv')\n",
    "df_assistant = pd.read_csv('assistant.csv')\n",
    "maxStudent = 10\n",
    "\n",
    "df_session = pd.read_csv('session.csv')\n",
    "data=[]\n",
    "for sessIndex, sessRow in df_session.iterrows():\n",
    "    sessId = sessIndex+1\n",
    "    n_student = random.randint(1,maxStudent)\n",
    "    students = df_student.sample(n=n_student)\n",
    "    for stIndex, stRow in students.iterrows():\n",
    "        stNRP = stRow['NRP']\n",
    "        presence = random.choices([1, 0], weights=[70, 30], k=1)[0]\n",
    "        data.append([stNRP,sessId,presence])\n",
    "        # cur = f\"('{stNRP}', '{sessId}', {presence}),\"\n",
    "        # print(cur)\n",
    "df_student_session = pd.DataFrame.from_records(data, columns=['Student_NRP','Session_ID','presence'])\n",
    "df_student_session.to_csv('student_session.csv',index=False)"
   ]
  }
 ],
 "metadata": {
  "kernelspec": {
   "display_name": "Python 3",
   "language": "python",
   "name": "python3"
  },
  "language_info": {
   "codemirror_mode": {
    "name": "ipython",
    "version": 3
   },
   "file_extension": ".py",
   "mimetype": "text/x-python",
   "name": "python",
   "nbconvert_exporter": "python",
   "pygments_lexer": "ipython3",
   "version": "3.11.0"
  }
 },
 "nbformat": 4,
 "nbformat_minor": 2
}
